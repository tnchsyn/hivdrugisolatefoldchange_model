{
 "cells": [
  {
   "cell_type": "code",
   "execution_count": null,
   "id": "295829f3",
   "metadata": {},
   "outputs": [],
   "source": [
    "\"\"\"\"\n",
    "@author: Huseyin Tunc\n",
    "\"\"\"\n",
    "\n",
    "import numpy as np\n",
    "from rdkit import Chem\n",
    "from rdkit.Chem import AllChem\n",
    "from rdkit.Chem import DataStructs\n",
    "\n",
    "#ATV\n",
    "mol = Chem.MolFromSmiles('CC(C)(C)[C@@H](C(=O)N[C@@H](CC1=CC=CC=C1)[C@H](CN(CC2=CC=C(C=C2)C3=CC=CC=N3)NC(=O)[C@H](C(C)(C)C)NC(=O)OC)O)NC(=O)OC')\n",
    "fp1 = AllChem.GetMorganFingerprintAsBitVect(mol, 2, nBits=512)\n",
    "arr1 = np.zeros((0,), dtype=np.int8)\n",
    "DataStructs.ConvertToNumpyArray(fp1,arr1)\n",
    "#DRV\n",
    "mol = Chem.MolFromSmiles('CC(C)CN(CC(C(CC1=CC=CC=C1)NC(=O)OC2COC3C2CCO3)O)S(=O)(=O)C4=CC=C(C=C4)N')\n",
    "fp2 = AllChem.GetMorganFingerprintAsBitVect(mol, 2, nBits=512)\n",
    "arr2 = np.zeros((0,), dtype=np.int8)\n",
    "DataStructs.ConvertToNumpyArray(fp2,arr2)\n",
    "#FPV\n",
    "mol = Chem.MolFromSmiles('CC(C)CN(CC(C(CC1=CC=CC=C1)NC(=O)OC2CCOC2)OP(=O)(O)O)S(=O)(=O)C3=CC=C(C=C3)N')\n",
    "fp3 = AllChem.GetMorganFingerprintAsBitVect(mol, 2, nBits=512)\n",
    "arr3 = np.zeros((0,), dtype=np.int8)\n",
    "DataStructs.ConvertToNumpyArray(fp3,arr3)\n",
    "#IDV\n",
    "mol = Chem.MolFromSmiles('CC(C)(C)NC(=O)C1CN(CCN1CC(CC(CC2=CC=CC=C2)C(=O)NC3C(CC4=CC=CC=C34)O)O)CC5=CN=CC=C5')\n",
    "fp4 = AllChem.GetMorganFingerprintAsBitVect(mol, 2, nBits=512)\n",
    "arr4 = np.zeros((0,), dtype=np.int8)\n",
    "DataStructs.ConvertToNumpyArray(fp4,arr4)\n",
    "#LPV\n",
    "mol = Chem.MolFromSmiles('CC1=C(C(=CC=C1)C)OCC(=O)NC(CC2=CC=CC=C2)C(CC(CC3=CC=CC=C3)NC(=O)C(C(C)C)N4CCCNC4=O)O')\n",
    "fp5 = AllChem.GetMorganFingerprintAsBitVect(mol, 2, nBits=512)\n",
    "arr5 = np.zeros((0,), dtype=np.int8)\n",
    "DataStructs.ConvertToNumpyArray(fp5,arr5)\n",
    "#NFV\n",
    "mol = Chem.MolFromSmiles('CC1=C(C=CC=C1O)C(=O)NC(CSC2=CC=CC=C2)C(CN3CC4CCCCC4CC3C(=O)NC(C)(C)C)O')\n",
    "fp6 = AllChem.GetMorganFingerprintAsBitVect(mol, 2, nBits=512)\n",
    "arr6 = np.zeros((0,), dtype=np.int8)\n",
    "DataStructs.ConvertToNumpyArray(fp6,arr6)\n",
    "#SQV\n",
    "mol = Chem.MolFromSmiles('CC(C)(C)NC(=O)C1CC2CCCCC2CN1CC(C(CC3=CC=CC=C3)NC(=O)C(CC(=O)N)NC(=O)C4=NC5=CC=CC=C5C=C4)O')\n",
    "fp7 = AllChem.GetMorganFingerprintAsBitVect(mol, 2, nBits=512)\n",
    "arr7 = np.zeros((0,), dtype=np.int8)\n",
    "DataStructs.ConvertToNumpyArray(fp7,arr7)\n",
    "#TPV\n",
    "mol = Chem.MolFromSmiles('CCCC1(CC(=C(C(=O)O1)C(CC)C2=CC(=CC=C2)NS(=O)(=O)C3=NC=C(C=C3)C(F)(F)F)O)CCC4=CC=CC=C4')\n",
    "fp8 = AllChem.GetMorganFingerprintAsBitVect(mol, 2, nBits=512)\n",
    "arr8 = np.zeros((0,), dtype=np.int8)\n",
    "DataStructs.ConvertToNumpyArray(fp8,arr8)\n",
    "\n",
    "#This order is due to the order \n",
    "Arr=[arr1,arr2,arr3,arr4,arr5,arr6,arr7,arr8]\n",
    "\n",
    "np.savetxt('PI_Morgan_512.csv', Arr, delimiter=',', fmt='%s')"
   ]
  }
 ],
 "metadata": {
  "kernelspec": {
   "display_name": "Python 3 (ipykernel)",
   "language": "python",
   "name": "python3"
  },
  "language_info": {
   "codemirror_mode": {
    "name": "ipython",
    "version": 3
   },
   "file_extension": ".py",
   "mimetype": "text/x-python",
   "name": "python",
   "nbconvert_exporter": "python",
   "pygments_lexer": "ipython3",
   "version": "3.9.7"
  }
 },
 "nbformat": 4,
 "nbformat_minor": 5
}
